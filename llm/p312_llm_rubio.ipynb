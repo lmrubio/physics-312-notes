{
 "cells": [
  {
   "cell_type": "markdown",
   "id": "326342fe-8490-4285-b036-ca1daab0b881",
   "metadata": {},
   "source": [
    "---\n",
    "title: \"Large Language Models\"\n",
    "author: \"Louie John M. Rubio\"\n",
    "\n",
    "bibliography: llm_notes.bib\n",
    "csl: ieee.csl\n",
    "\n",
    "numbersections: true\n",
    "\n",
    "format:\n",
    "    html:\n",
    "        code-fold: false\n",
    "        embed-resoures: true\n",
    "        self-contained-math: true\n",
    "\n",
    "jupyter: python3\n",
    "toc: true\n",
    "---"
   ]
  },
  {
   "cell_type": "markdown",
   "id": "0f027cd4-c0ec-470a-bdf5-0b64064b5db7",
   "metadata": {},
   "source": [
    "Notes for Physics 312 class readings"
   ]
  },
  {
   "cell_type": "markdown",
   "id": "d42021e4-61f3-408c-8a25-8c6b0cbe450f",
   "metadata": {},
   "source": [
    "## General overview/ideas\n",
    "Before getting into the math and internal workings of a large language model, one of the readings in class looks at a specific example: ChatGPT, and how it works.\n",
    "\n",
    "ChatGPT is an example of a **large language model** that functions like a chatbot. The post by Stephen Wolfram titled *\"What is ChatGPT doing ... and why does it work?\"* [@wolfram_2023] provides a basic picture of how LLMs (specifically ChatGPT) work.\n",
    "\n",
    "Here are some key ideas from the post.\n",
    "\n",
    "1) ChatGPT creates human-intelligible text by adding one probable “word” at a time\n",
    "\n",
    "* The model chooses “probable words” based on data the model is trained on. \n",
    "\n",
    "* The most probable word is not necessarily what’s chosen (meaning there’s a random factor on choosing words — a “temperature” parameter).\n",
    "\n",
    "2) How are these probabilities calculated?\n",
    "\n",
    "* The probabilities are not derived empirically from data (the amount of text available is huge), and when considering consecutive words, the number of possibilities increase even more.\n",
    "\n",
    "* Large language models attempt to estimate the probability of occurrence of sequences even without seeing explicitly all possible combinations of words in text.\n",
    "\n",
    "The latter sections go over neural networks (large language models are neural networks):\n",
    "\n",
    "3) Neural networks \n",
    "\n",
    "* Neural networks are composed of a layer of nodes called neurons: these neurons correspond to a simple numerical function\n",
    "\n",
    "* Neurons have incoming inputs with associated weights, and the value of each neuron depends on the values of previously connected neurons and an applied “activation” function. Mathematically: \n",
    "\n",
    "    $$ f[w \\cdot x + b], x = \\{x_1, x_2, …\\} $$\n",
    "    $f$ is the form taken by the activation function, which generally introduces a non-linearity. $w$ are weights, $b$ are constants that are chosen per neuron (biases), and $x$ are the inputs to the neuron.\n",
    "\n",
    "* Weights of the neurons in the network are adjusted at each step until it learns the target function.\n",
    "\n",
    "* A loss function (or a cost function) is computed to see “how far away\" from the model is from the target.\n",
    "\n",
    "* Minimizing the loss function - gradient descent\n",
    "\n",
    "4) Considerations when training neural networks\n",
    "\n",
    "* Choosing neural net architecture\n",
    "\n",
    "* Getting/preparing the training data\n",
    "    - Instead of training from scratch: a) incorporate an already-trained neural net, b) use the neural net to generate more training examples\n",
    "* Determining the size of the neural network (depends on the perceived difficulty of the task)\n",
    "* Different choices for setting hyperparameters, loss functions, minimization of the loss function\n",
    "\n",
    "Since neural networks take in numbers as inputs, text should be represented to numbers. How do large language models take in its inputs?\n",
    "\n",
    "5) Representing texts as numbers: **embeddings**\n",
    "* A word embedding can be thought of as laying out words in a “meaning space”.\n",
    "\n",
    "* You can extend this to expressing sequences of words as a collection of numbers.\n",
    "\n",
    "In large language models, instead of words, the object of interest are tokens. Tokens can be less than a word (like a prefix, suffix, a sub-unit of a word).\n",
    "\n",
    "Lastly, the most relevant part, at least for the class, is the internal workings of large language models. In the text [@wolfram_2023], there is a section on what's inside ChatGPT.\n",
    "*  a GPT-3 network with 175 billion weights\n",
    "\n",
    "* the neural network architecture used is **“transformer”**\n",
    "\n",
    "* transformers have the notion of **“attention”**\n",
    "\n",
    "* embedding vectors for original tokens &rarr embedding vector goes through the layers of the neural network (feed-forward)\n",
    "\n",
    "* only specific neurons on different layers are connected (transformer architecture)\n",
    "\n",
    "\n",
    "Summarizing these points, large language models are neural networks trained on large amounts of text, often resulting in models with millions to billions of parameters. Since neural networks take in numbers as input, words are converted into a numerical representation.\n",
    "\n",
    "We'll focus on key ideas mentioned here and some questions that pop up here.\n",
    "\n",
    "* What model architectures are used for LLMs?\n",
    "\n",
    "* What are \"transformers\" and \"attention\" in the context of neural networks?\n",
    "\n",
    "* How are text represented to numbers in neural networks?"
   ]
  },
  {
   "cell_type": "markdown",
   "id": "955f312e-27cb-48f4-a886-5582092d5f33",
   "metadata": {
    "tags": []
   },
   "source": [
    "## Neural networks\n",
    "For this section, we look at multiple readings in class: Carolin Penke's blog post titled \"A mathematician's introduction to transformers and large language models\" [@carolin_2022], the original transformer paper \"Attention is all you need!\" [@attention_2017] and the annotated version [@annotated_trans], and Christopher Olah's blog post on \"Understanding LSTM networks\" [@colah].\n",
    "\n",
    "### Training\n",
    "Neural networks trained on huge amounts of text to generate intelligible sentences from input text is the usual approach to creating language models [@carolin_2022].\n",
    "Instead of training a neural network from scratch, it is common practice to use a pre-trained model which is trained further on a task-specific dataset (*fine-tuning* a model). Computing outputs from a trained model is referred to as *inference*. \n",
    "\n",
    "Pre-training, fine-tuning, and inference for neural networks involve computing resources. Computational steps in neural networks can involve a series of matrix multiplications, and depending on the size of the model, may require systems with a lot of compute. The goal of training is for the model to learn the relationships of inputs to outputs in the data. \n",
    "\n",
    "### Neural network architecture\n",
    "#### Feedforward neural network\n",
    "```{mermaid}\n",
    "%%| label: fig-nn\n",
    "%%| file: neural_net.mmd\n",
    "%%| fig-cap: \"Example of a feedforward neural network.\"\n",
    "```\n",
    "A trained neural network takes in a vector representation of input data into an input layer. It passes through hidden layers before exiting the output layer. Moving through successive layers involves matrix multiplication of the vectors and applying an activation function. For the feedforward neural network architecture, there are no loops. The feedforward neural network is one of the most basic architectures developed.\n",
    "\n",
    "#### Recurrent neural network and LSTM\n",
    "\n",
    "```{mermaid}\n",
    "%%| label: fig-rnn\n",
    "%%| file: RNN.mmd\n",
    "%%| fig-cap: \"Recurrent neural network.\"\n",
    "```\n",
    "\n",
    "A recurrent neural network allows loops in parts of the neural network. For the RNN shown in @fig-rnn, some chunk of neural network $A$ takes in $x$ as an input and outputs $h$, while allowing for information to be passed from one step of the network through the next using the loop. RNNs have been used for applications with sequential data, like text. However, most of the successful results using RNNs were made through LSTMs, a special kind of RNN. \n",
    "\n",
    "![Example of an unrolled RNN from C. Olah's blog [@colah].](RNN-longtermdependencies.png){width=60% #fig-dependence}\n",
    "\n",
    "One of the biggest problems encountered by traditional RNNs are vanishing gradients. As mentioned in the overview, neural networks by updating its weights such that the loss/cost function is minimized. When the gradients vanish, the network barely updates its weights. In the example in [@colah], trying to predict the last word in the phrase \"I grew up in France... I speak fluent **French**.\" would be troublesome because of the \"long-term dependency\". Immediate information at the end suggests the name of a language completes the phrase, but the language in question needs the context of *France* to specify the language. In the diagram from the blog (@fig-dependence), it's possible for cases where the context is very far away ($x_1$ and $x_2$) from the output being predicted ($h_{t+1}$). In Carolin's post [@carolin_2022], this is described as older words having minimal influence on the gradients. \n",
    "\n",
    "Long-term short memory (LSTM) networks can learn long-term dependencies by introducing a cell state. Information can be removed or added to the cell states using gates. While the addition of gates helps with long-term dependencies, the sequential nature of RNNs and LSTMs constrains parallelization in training. \n",
    "\n",
    "#### Transformer architecture\n",
    "The transformer architecture is first showcased in the paper \"Attention is All You Need [@attention_2017]\". Before this work, attention mechanisms are often used to enhance RNNs. The transformer architecture relies mainly on attention mechanism to get relationships between input and output. In the \"Attention\" paper, the main task is machine translation. \n",
    "\n",
    "In the paper, they describe the attention function as \"mapping a query and a set of key-value pairs to an output, where the query, keys, values, and output are all vectors\" [@attention_2017]. The attention function is computed simultaneously for all queries by matrix multiplication. The definition introduced in the paper is given by: \n",
    "\n",
    "$$Attention(Q,K,V) = softmax \\left( \\dfrac{QK^T}{\\sqrt{d_k}} \\right) V$$\n",
    "\n",
    "The $softmax$ function converts the values into a probability distribution (which means they sum to 1). The transformer architecture utilizes parallel attention layers which they call multi-head attention.\n",
    "\n",
    "The creation of word embeddings is part of pre-training for models with the transformer architecture. These embeddings are used to convert input and output tokens to vectors.  To make use of the order of sequences without using recurrence or convolution, they added information on the position of a token in the sequence which they call \"positional encoding\". The positional encoding is added to the input embeddings.\n",
    "\n",
    "The transformer architecture is widely used in large language models and has large success in various natural language processing applications."
   ]
  },
  {
   "cell_type": "markdown",
   "id": "04970668-1dd2-43be-b870-71be60c00add",
   "metadata": {},
   "source": [
    "## Tokens and embeddings\n",
    "\n",
    "In this section, we focus on tokenization and embeddings. Representing words into a numerical form is important for neural networks to be able to accept text as input. Tokenization often refers to breaking up raw text into tokens, and embeddings is used to represent words into a numerical vector.\n",
    "\n",
    "### Tokenization\n",
    "In tokenization, raw text is converted to tokens. Tokens can be words, characters, or subwords (like prefixes, suffixes, etc.). spaCy [@spacy2] is a popular library for NLP applications, and has its own tokenizer. We will use it as an example to see what happens to text after tokenization."
   ]
  },
  {
   "cell_type": "code",
   "execution_count": 1,
   "id": "947ad25f-4cc8-4194-ac75-123693c7c733",
   "metadata": {},
   "outputs": [
    {
     "name": "stdout",
     "output_type": "stream",
     "text": [
      "['A', 'trained', 'neural', 'network', 'takes', 'in', 'a', 'vector', 'representation', 'of', 'input', 'data', 'into', 'an', 'input', 'layer', '.', '\\n', 'It', 'passes', 'through', 'hidden', 'layers', 'before', 'exiting', 'the', 'output', 'layer', '.', '\\n', 'Moving', 'through', 'successive', 'layers', 'involves', 'matrix', 'multiplication', 'of', 'the', 'vectors', 'and', 'applying', 'an', 'activation', 'function', '.', '\\n', 'For', 'the', 'feedforward', 'neural', 'network', 'architecture', ',', 'there', 'are', 'no', 'loops', '.', '\\n', 'The', 'feedforward', 'neural', 'network', 'is', 'one', 'of', 'the', 'most', 'basic', 'architectures', 'developed', '.']\n"
     ]
    }
   ],
   "source": [
    "import spacy\n",
    "\n",
    "nlp = spacy.load(\"en_core_web_sm\")\n",
    "sentence = \"\"\"A trained neural network takes in a vector representation of input data into an input layer. \n",
    "It passes through hidden layers before exiting the output layer. \n",
    "Moving through successive layers involves matrix multiplication of the vectors and applying an activation function. \n",
    "For the feedforward neural network architecture, there are no loops. \n",
    "The feedforward neural network is one of the most basic architectures developed.\"\"\"\n",
    "\n",
    "doc = nlp(sentence)\n",
    "token_set = (([w.text for w in doc]))\n",
    "print(token_set)"
   ]
  },
  {
   "cell_type": "markdown",
   "id": "caac74a6-4cb6-4cd8-8f76-f352c74aaca0",
   "metadata": {},
   "source": [
    "In this example text, we can see that aside from punctuation, the newline character was also included in the tokenization. For specific NLP applications, special tokens are added using additional rules to help the model identify important parts of the sentence. In FastAI's own [Tokenizer](https://docs.fast.ai/text.core.html#tokenizer), some special tokens that they use include ```xxmaj``` and ```xxbos```. The rules used are seen in the [documentation](https://docs.fast.ai/text.core.html#tokenizer)."
   ]
  },
  {
   "cell_type": "code",
   "execution_count": 2,
   "id": "5d93d518-aa2d-431a-84b4-dbe829ed4166",
   "metadata": {},
   "outputs": [],
   "source": [
    "from fastai.text.all import Tokenizer, WordTokenizer, coll_repr, first"
   ]
  },
  {
   "cell_type": "markdown",
   "id": "d1bdd0d7-8b64-4628-9921-3929d15b92d4",
   "metadata": {},
   "source": [
    "WordTokenizer() works like spaCy's tokenizer. Punctuations and newline characters are also counted as tokens."
   ]
  },
  {
   "cell_type": "code",
   "execution_count": 3,
   "id": "2c6e47c8-8364-47b5-812b-d1c03fe943d5",
   "metadata": {},
   "outputs": [
    {
     "name": "stdout",
     "output_type": "stream",
     "text": [
      "(#73) ['A','trained','neural','network','takes','in','a','vector','representation','of','input','data','into','an','input','layer','.','\\n','It','passes','through','hidden','layers','before','exiting','the','output','layer','.','\\n','Moving','through','successive','layers','involves','matrix','multiplication','of','the','vectors','and','applying','an','activation','function','.','\\n','For','the','feedforward','neural','network','architecture',',','there','are','no','loops','.','\\n','The','feedforward','neural','network','is','one','of','the','most','basic','architectures','developed','.']\n"
     ]
    }
   ],
   "source": [
    "tknzr = WordTokenizer()\n",
    "toks = next(tknzr([sentence])) #tknzr is a generator object, and WordTokenizer() can tokenize more than one document. In this case, we only have one\n",
    "\n",
    "print(coll_repr(toks, 73))"
   ]
  },
  {
   "cell_type": "markdown",
   "id": "3750b052-19ae-4fa0-a815-b2279614e9e7",
   "metadata": {},
   "source": [
    "Using FastAI's ```Tokenizer``` class, special tokens created using a set of rules are included in the tokenization."
   ]
  },
  {
   "cell_type": "code",
   "execution_count": 4,
   "id": "6aac56f7-850f-41f6-ac2f-d5149b3cb7d5",
   "metadata": {},
   "outputs": [
    {
     "name": "stdout",
     "output_type": "stream",
     "text": [
      "(#78) ['xxbos','a','trained','neural','network','takes','in','a','vector','representation','of','input','data','into','an','input','layer','.','\\n','xxmaj','it','passes','through','hidden','layers','before','exiting','the','output','layer','.','\\n','xxmaj','moving','through','successive','layers','involves','matrix','multiplication','of','the','vectors','and','applying','an','activation','function','.','\\n','xxmaj','for','the','feedforward','neural','network','architecture',',','there','are','no','loops','.','\\n','xxmaj','the','feedforward','neural','network','is','one','of','the','most','basic','architectures','developed','.']\n"
     ]
    }
   ],
   "source": [
    "tknzr2 = Tokenizer(tknzr)\n",
    "toks2 = tknzr2(sentence)\n",
    "print(coll_repr(toks2, 100))"
   ]
  },
  {
   "cell_type": "markdown",
   "id": "333e33af-2be0-48dc-bbe7-a14aac7c7270",
   "metadata": {},
   "source": [
    "Here, ```xxbos``` indicates the start of the text. ```xxmaj``` indicates that the next token is capitalized. Using a token that takes note of capitalization this saves on the number of words that needs representing in the embedding matrix (notice how all tokens here are decapitalized).\n",
    "\n",
    "In creating the embedding matrix, one of the dimensions is the size of the vocabulary (or the number of tokens). Converting all text to lowercase and creating a special token instead reduces the number of tokens to be represented."
   ]
  },
  {
   "cell_type": "markdown",
   "id": "fdcff1f2-b8ea-4c6f-ad34-55a331fc5599",
   "metadata": {},
   "source": [
    "### Embeddings\n",
    "Word embeddings represents tokens in a vector representation. The goal is to represent tokens in such a way that semantic information is encoded. In general, embeddings are stored in a matrix of size $|V| \\times D$, where $V$ is the vocabulary size and $D$ is the dimensionality of the embedding.\n",
    "\n",
    "Let's consider the tokens we created using FastAI's ```Tokenizer``` and create a vocabulary from the tokens."
   ]
  },
  {
   "cell_type": "code",
   "execution_count": 5,
   "id": "66f6ce3a-3b42-493e-a496-9998811cffaf",
   "metadata": {},
   "outputs": [],
   "source": [
    "import numpy as np\n",
    "\n",
    "vocab = sorted(set(list(toks2)))\n",
    "word_to_ix = {word: i for i, word in enumerate(vocab)}"
   ]
  },
  {
   "cell_type": "markdown",
   "id": "44f3dbed-16f2-4d7b-9956-4d7aac682acf",
   "metadata": {},
   "source": [
    "Each unique token now has an associated ID. \n",
    "\n",
    "The general practice is to convert tokens first into a one-hot encoded vector, where the length of the vector is the size of the vocabulary. All values are zero for the one-hot encoded vector except for the index of the token being represented. "
   ]
  },
  {
   "cell_type": "code",
   "execution_count": 6,
   "id": "736551b9-c7e9-4d4c-b36f-7a1e2417d434",
   "metadata": {},
   "outputs": [
    {
     "data": {
      "text/plain": [
       "{'\\n': 0,\n",
       " ',': 1,\n",
       " '.': 2,\n",
       " 'a': 3,\n",
       " 'activation': 4,\n",
       " 'an': 5,\n",
       " 'and': 6,\n",
       " 'applying': 7,\n",
       " 'architecture': 8,\n",
       " 'architectures': 9,\n",
       " 'are': 10,\n",
       " 'basic': 11,\n",
       " 'before': 12,\n",
       " 'data': 13,\n",
       " 'developed': 14,\n",
       " 'exiting': 15,\n",
       " 'feedforward': 16,\n",
       " 'for': 17,\n",
       " 'function': 18,\n",
       " 'hidden': 19,\n",
       " 'in': 20,\n",
       " 'input': 21,\n",
       " 'into': 22,\n",
       " 'involves': 23,\n",
       " 'is': 24,\n",
       " 'it': 25,\n",
       " 'layer': 26,\n",
       " 'layers': 27,\n",
       " 'loops': 28,\n",
       " 'matrix': 29,\n",
       " 'most': 30,\n",
       " 'moving': 31,\n",
       " 'multiplication': 32,\n",
       " 'network': 33,\n",
       " 'neural': 34,\n",
       " 'no': 35,\n",
       " 'of': 36,\n",
       " 'one': 37,\n",
       " 'output': 38,\n",
       " 'passes': 39,\n",
       " 'representation': 40,\n",
       " 'successive': 41,\n",
       " 'takes': 42,\n",
       " 'the': 43,\n",
       " 'there': 44,\n",
       " 'through': 45,\n",
       " 'trained': 46,\n",
       " 'vector': 47,\n",
       " 'vectors': 48,\n",
       " 'xxbos': 49,\n",
       " 'xxmaj': 50}"
      ]
     },
     "execution_count": 6,
     "metadata": {},
     "output_type": "execute_result"
    }
   ],
   "source": [
    "word_to_ix"
   ]
  },
  {
   "cell_type": "markdown",
   "id": "99f0bc05-9715-4ec5-b441-4877c0dd9a52",
   "metadata": {},
   "source": [
    "The code below is an example of a one-hot encoding for the token ```activation``` in the vocabulary we used. Usually, available packages would handle the creation of the vocabulary."
   ]
  },
  {
   "cell_type": "code",
   "execution_count": 7,
   "id": "09d642e6-4199-44b0-a2c7-48e9691198c7",
   "metadata": {},
   "outputs": [
    {
     "data": {
      "text/plain": [
       "array([0., 0., 0., 0., 1., 0., 0., 0., 0., 0., 0., 0., 0., 0., 0., 0., 0.,\n",
       "       0., 0., 0., 0., 0., 0., 0., 0., 0., 0., 0., 0., 0., 0., 0., 0., 0.,\n",
       "       0., 0., 0., 0., 0., 0., 0., 0., 0., 0., 0., 0., 0., 0., 0., 0., 0.])"
      ]
     },
     "execution_count": 7,
     "metadata": {},
     "output_type": "execute_result"
    }
   ],
   "source": [
    "word = \"activation\"\n",
    "vector = np.zeros(len(word_to_ix.values()))\n",
    "index = word_to_ix[word]\n",
    "\n",
    "vector[index] = 1\n",
    "vector"
   ]
  },
  {
   "cell_type": "markdown",
   "id": "f61ce97d-4f37-477d-ba87-6b86380e50c2",
   "metadata": {},
   "source": [
    "The word embedding is obtained by multiplying this one-hot encoding vector with the embedding matrix. The result is a vector in the dimensions of the embedding. "
   ]
  },
  {
   "cell_type": "raw",
   "id": "9a34e633-b77d-475b-b968-6dac11bbbb2f",
   "metadata": {},
   "source": [
    "We try to create embeddings for words in a sample document. This PyTorch [documentation](https://pytorch.org/tutorials/beginner/nlp/word_embeddings_tutorial.html)[@pytorch] is particularly helpful. The code example here is based on the n-gram language modeling example in PyTorch, with modifications to allow the use of the MPS in devices running on Apple Silicon (thank you Chester for this!)"
   ]
  },
  {
   "cell_type": "code",
   "execution_count": 8,
   "id": "ab563953-3de7-4122-9d23-65c7e012ba6a",
   "metadata": {},
   "outputs": [
    {
     "name": "stdout",
     "output_type": "stream",
     "text": [
      "[(['forty', 'When'], 'winters'), (['winters', 'forty'], 'shall'), (['shall', 'winters'], 'besiege')]\n"
     ]
    }
   ],
   "source": [
    "import torch\n",
    "import torch.nn as nn\n",
    "import torch.nn.functional as F\n",
    "import torch.optim as optim\n",
    "\n",
    "import time\n",
    "\n",
    "device = torch.device(\"mps\")\n",
    "\n",
    "CONTEXT_SIZE = 2\n",
    "EMBEDDING_DIM = 4\n",
    "# We will use Shakespeare Sonnet 2\n",
    "test_sentence = \"\"\"When forty winters shall besiege thy brow,\n",
    "And dig deep trenches in thy beauty's field,\n",
    "Thy youth's proud livery so gazed on now,\n",
    "Will be a totter'd weed of small worth held:\n",
    "Then being asked, where all thy beauty lies,\n",
    "Where all the treasure of thy lusty days;\n",
    "To say, within thine own deep sunken eyes,\n",
    "Were an all-eating shame, and thriftless praise.\n",
    "How much more praise deserv'd thy beauty's use,\n",
    "If thou couldst answer 'This fair child of mine\n",
    "Shall sum my count, and make my old excuse,'\n",
    "Proving his beauty by succession thine!\n",
    "This were to be new made when thou art old,\n",
    "And see thy blood warm when thou feel'st it cold.\"\"\".split()\n",
    "# we should tokenize the input, but we will ignore that for now\n",
    "# build a list of tuples.\n",
    "# Each tuple is ([ word_i-CONTEXT_SIZE, ..., word_i-1 ], target word)\n",
    "ngrams = [\n",
    "    (\n",
    "        [test_sentence[i - j - 1] for j in range(CONTEXT_SIZE)],\n",
    "        test_sentence[i]\n",
    "    )\n",
    "    for i in range(CONTEXT_SIZE, len(test_sentence))\n",
    "]\n",
    "# Print the first 3, just so you can see what they look like.\n",
    "print(ngrams[:3])\n",
    "\n",
    "vocab = set(test_sentence)\n",
    "word_to_ix = {word: i for i, word in enumerate(vocab)}\n",
    "\n",
    "\n",
    "class NGramLanguageModeler(nn.Module):\n",
    "\n",
    "    def __init__(self, vocab_size, embedding_dim, context_size):\n",
    "        super(NGramLanguageModeler, self).__init__()\n",
    "        self.embeddings = nn.Embedding(vocab_size, embedding_dim, device=device)\n",
    "        self.linear1 = nn.Linear(context_size * embedding_dim, 128, device=device)\n",
    "        self.linear2 = nn.Linear(128, vocab_size, device=device)\n",
    "\n",
    "    def forward(self, inputs):\n",
    "        embeds = self.embeddings(inputs).view((1, -1))\n",
    "        out = F.relu(self.linear1(embeds))\n",
    "        out = self.linear2(out)\n",
    "        log_probs = F.log_softmax(out, dim=1)\n",
    "        return log_probs\n",
    "\n",
    "losses = []\n",
    "loss_function = nn.NLLLoss()\n",
    "model = NGramLanguageModeler(len(vocab), EMBEDDING_DIM, CONTEXT_SIZE)\n",
    "optimizer = optim.SGD(model.parameters(), lr=0.005)\n",
    "\n",
    "for epoch in range(50):\n",
    "    total_loss = 0\n",
    "    ep_start = time.time()\n",
    "    for context, target in ngrams:\n",
    "\n",
    "        # Step 1. Prepare the inputs to be passed to the model (i.e, turn the words\n",
    "        # into integer indices and wrap them in tensors)\n",
    "        context_idxs = torch.tensor([word_to_ix[w] for w in context], dtype=torch.long, device=device)\n",
    "\n",
    "        # Step 2. Recall that torch *accumulates* gradients. Before passing in a\n",
    "        # new instance, you need to zero out the gradients from the old\n",
    "        # instance\n",
    "        model.zero_grad()\n",
    "\n",
    "        # Step 3. Run the forward pass, getting log probabilities over next\n",
    "        # words\n",
    "        log_probs = model(context_idxs)\n",
    "\n",
    "        # Step 4. Compute your loss function. (Again, Torch wants the target\n",
    "        # word wrapped in a tensor)\n",
    "        loss = loss_function(log_probs, torch.tensor([word_to_ix[target]], dtype=torch.long, device=device))\n",
    "\n",
    "        # Step 5. Do the backward pass and update the gradient\n",
    "        loss.backward()\n",
    "        optimizer.step()\n",
    "\n",
    "        # Get the Python number from a 1-element Tensor by calling tensor.item()\n",
    "        total_loss += loss.item()\n",
    "    losses.append(total_loss)\n",
    "    #print(f\"Done epoch# {epoch} - loss={total_loss:.2f} (t = {time.time() - ep_start:.2f}s)\")\n",
    "\n",
    "# To get the embedding of a particular word, e.g. \"beauty\"\n",
    "#print(model.embeddings.weight[word_to_ix[\"beauty\"]])"
   ]
  },
  {
   "cell_type": "markdown",
   "id": "2fc8f1e3-a83e-4f21-8558-3e62e1ec4221",
   "metadata": {},
   "source": [
    "In the code above, the context size is 2 and the embedding dimension is 4. The data used to train the model here is n-grams from the ```test_sentence```. An n-gram contains a token and adjacent words to it. In the case of the PyTorch example, the n-gram includes $n$ words before the chosen word. \n",
    "\n",
    "Printing the weights of embedding below, we see that ```beauty``` is represented using 4 numbers (since our embedding dimension is 4)."
   ]
  },
  {
   "cell_type": "code",
   "execution_count": 9,
   "id": "50977313-d215-4483-8135-3f1d3b305202",
   "metadata": {},
   "outputs": [
    {
     "name": "stdout",
     "output_type": "stream",
     "text": [
      "tensor([ 0.3094,  0.7100,  2.0676, -1.8533], device='mps:0',\n",
      "       grad_fn=<SelectBackward0>)\n"
     ]
    }
   ],
   "source": [
    "print(model.embeddings.weight[word_to_ix[\"beauty\"]])"
   ]
  },
  {
   "cell_type": "markdown",
   "id": "74154edb-30fc-46b6-a7f1-c52cf2f85889",
   "metadata": {},
   "source": [
    "In the transformer architecture, the word embedding is part of the model's pre-training."
   ]
  },
  {
   "cell_type": "markdown",
   "id": "7508e942-9202-476a-ac39-2b397c4a76b0",
   "metadata": {},
   "source": [
    "## Running LLMs\n",
    "\n",
    "### Attempting to run FastAI notebooks for fine-tuning\n",
    "During the earlier part of the semester, I attempted to run [FastAI's NLP notebook for fine-tuning](https://github.com/fastai/fastbook/blob/master/10_nlp.ipynb) with limited success. The notebook runs up until loading the models. However, it fails to run after attempting to do the fine-tuning (which is probably the meat of the topic for that notebook.)\n",
    "\n",
    "* I end up running out of RAM when using the notebook on Google Colab's free tier. Changing from CPU to TPU doesn't help.\n",
    "\n",
    "* I tried to run it locally on a Macbook Air (it has the M1 chip). The kernel dies, and it raises an error ```(\"anaconda3/envs/torch-gpu/lib/python3.8/site-packages/torch/amp/autocast_mode.py:202: UserWarning: User provided device_type of 'cuda', but CUDA is not available. Disabling\")```. Code can run if you set the DataLoader to CPU (but it's running very slow.)\n",
    "\n",
    "* I've also tried making a new environment to see if I can [run the code using MPS instead of the CPU](https://towardsdatascience.com/installing-pytorch-on-apple-m1-chip-with-gpu-acceleration-3351dc44d67c), but it seems like there's no way to override the \"device_type\" (I'm referring to the language_model_learner part of the code).\n",
    "\n",
    "Based on what I've read (and some class discussions), the incompatibility results from how weights and gradients are stored (they are numbers, and in computers, they can be represented with different precision.)\n",
    "\n",
    "While it is generally hard to run large language models on consumer hardware because of the size of the matrices used, recent developments have allowed running large language models in devices with smaller compute.\n",
    "\n",
    "### LLaMA, Alpaca, and llama.cpp/alpaca.cpp\n",
    "In February 2023, researches from Meta [@llama2023] released LLaMA, large language models which are trained exclusively on publicly available datasets. The LLaMA models are competitive with current state-of-the-art (SoA) models, with the takeaway being the ability to get SoA performance without using proprietary or closed datasets.\n",
    "\n",
    "In March 2023, researchers in Stanford released an instruction-following model called **Alpaca** [@alpaca], which is fine-tuned from Meta's LLaMA model with 7B parameters. The fine-tuning is done using instruction-following data generated using methods in the [Self-instruct paper](https://arxiv.org/abs/2212.10560).\n",
    "\n",
    "Within the same month, [```llama.cpp```](https://github.com/ggerganov/llama.cpp) was created with the goal of running the LLaMa model on a Macbook using **quantization**. Quantization is done to reduce the float precision of the weights, resulting in a lower memory footprint for the model.\n",
    "\n",
    "[```alpaca.cpp```](https://github.com/antimatter15/alpaca.cpp) modifies [```llama.cpp```] to include a chat interface not too different from ChatGPT. To run [```alpaca.cpp```] on the Macbook Air M1, I had to download quantized model weights that can be loaded the laptop. This [repository](https://huggingface.co/Sosaka/Alpaca-native-4bit-ggml/tree/main) contains a replica of the Alpaca model quantized to 4 bits so that a CPU with at least 5 GBs of RAM can run it. \n",
    "\n",
    "![Running alpaca.cpp on a Macbook Air M1 (GIF at 3x speed)](alpaca.gif){#fig-alpaca}\n",
    "\n",
    "@fig-alpaca shows a GIF of the [```alpaca.cpp```] running on the Terminal in chat mode using only default options. The fact that this model can generate text that sound sensible while running on a local device is impressive.\n",
    "\n",
    "By default, [```alpaca.cpp```] uses a temperature of 0.1 as its sampling parameter. Changing the temperature changes the probability of choices in generation, which results in an overall change in the quality of generated text.\n",
    "\n",
    "Let's use the prompt \"What is a large language model?\" and see the results for different temperatures\n",
    "\n",
    "#### Temperature\n",
    "All the prompts used here is \"What is a large language model?\". The seed is set to ```1688115903```. The same prompt is used thrice and the results are shown here.\n",
    "\n",
    "```temperature = 0.1```\n",
    "\n",
    "> A large language model is one with millions or even billions of parameters, which are used to predict the next word in text based on its context. These models can be trained using supervised learning techniques and have been successfully applied for tasks such as natural language understanding (NLU), automatic summarization, question answering, dialog systems, machine translation, and more recently, conversational AI.\n",
    "\n",
    "> A large language model is an artificial intelligence system that uses deep learning algorithms to generate human-like text based on given inputs or contexts. These models are typically used for tasks such as natural language understanding, automatic summarization and question answering.\n",
    "\n",
    "> A large language model is an artificial intelligence system that uses deep learning algorithms to generate human-like text based on given inputs or contexts. These models are typically used for tasks such as natural language understanding, automatic summarization and question answering.\n",
    "\n",
    "\n",
    "```temperature = 0.25```\n",
    "\n",
    "> A large language model is one which has been trained on a lot of data and contains many parameters, allowing it to capture complex patterns in text with high accuracy. Large models are typically more accurate than smaller ones but can take much longer to train due to the increased computational cost associated with training such deep neural networks.\n",
    "\n",
    "> A large language model is an artificial intelligence system that has been trained on a lot of data and contains many parameters, allowing it to capture complex patterns in text with high accuracy. Such models are often used for tasks such as natural language understanding or generation; they can also be applied to other areas like computer vision or robotics.\n",
    "\n",
    "> A large language model is an artificial intelligence system that has been trained on a lot of data and contains many parameters, allowing it to capture complex patterns in text with high accuracy. Such models are often used for tasks such as natural language understanding or generation; they can also be applied to other areas like computer vision or robotics.\n",
    "\n",
    "```temperature = 0.5```\n",
    "\n",
    "> A \"large\" or “deep” language model is one with many parameters, usually trained on a lot of data and using complex algorithms to learn patterns in text. Such models are used for tasks such as natural-language understanding (NLU) and generation; they can be applied to problems involving large vocabularies like machine translation, summarization or question answering.\n",
    "\n",
    "> A \"large\" or “deep” language model is one with many parameters, usually trained on a lot of data and using complex algorithms to learn patterns in text. Such models are used for tasks involving large vocabularies like machine translation, summarization, question answering and natural language understanding (NLU).\n",
    "\n",
    "> A large language model is an artificial intelligence system that uses neural networks to predict the next word in a sequence. It can be used for tasks such as machine translation, summarization and question answering. Large models typically have many layers of neurons and use millions or even billions of parameters which are learned from huge amounts of data.\n",
    "\n",
    "Using a ```temperature = 1``` results in more varied outputs when the same prompt is used.\n",
    "\n",
    "> A \"large\" or “larger” language model refers to models with more parameters, typically based on size and performance. Such models can generate larger outputs compared to smaller models but are often less efficient in terms of computation time. Examples include BERT-style transformer-based large neural network (TBLN) models, GPTs such as OpenAI’s GPT-3 or Google's AutoML TensorFlow/PyTorch based language modeling tasks like BigGAN and CLSMENA.\n",
    "\n",
    "> A \"large\" language model is one that uses more data, parameters and computational resources in order to generate higher quality outputs compared to smaller models. Examples of such larger language models include BERT-style transformer models with millions or even hundreds of millions of trainable parameters as well as GPT-3 based systems which have been trained on immense datasets of text containing several trillion words and thousands of languages, alphabets, and characters (Unicode). Such large neural networks are able to achieve state-of-the-art results in tasks such as natural language understanding. Large models generally require more data and computing resources but also yield significantly better performance than smaller ones on most practical NLP applications which rely heavily on a deep understanding of the text being processed.\n",
    "\n",
    "> A large language model, often referred to as \"big\" or “deep” models, are artificial intelligence algorithms that use millions-billions of parameters and layers in order to process natural languages accurately. These typically neural network based approaches usually consist many thousand times more complex than the traditional n-gram language modelling techniques with which they replace for tasks such as understanding text for sentiment analysis or answering questions by using knowledge base information from the web.\n",
    "#bigml #language_modeling\n",
    "\n",
    "```temperature = 1.5```. The generated text start to sound non-sensical in some parts.\n",
    "\n",
    "> A Large Language Model (LLM) refers to a specific type of machine translation system wherein one input document can be automatically translated into multiple different output documents by leveraging sophisticated Natural Langaue Processing and Machine Learning algorithms. LLM models aim at enrichment understanding among related or even totally unrelated outputs, through adaptively reusing the already stored data retrieved from large language datasets like CommonSense-509 and GPT2 corpus for building predictive sentences as per user requests made in different languages by taking into account historical contextual information. LLM is thus far proved more successful than previous NLTKs, RNNMGDPPs with best efforts achieved up to 87% accuracy test-based prediction rates on varied corpora over the net!\n",
    "\"\"\"Generated output as per user input and context \"\"\"\n",
    "\n",
    "> A Large Language Model (LLM) is defined by its scale. It consists of very deep neural networks that rely heavily on data for training the larger models, usually more than 10 layers in number depending upon the purpose and application it was built. Because of their vast size and complexity when compared to regular sized Neural Nets they require massive amounts o dataset as input during model building which eventually leads them achieve high accuracy levels even across different tasks on various datasets e g image or speech recognitions, question answerings etc.. The primary advantages enjoyed by LLMs compared with smaller ones is that it can quickly and accurately process immense volume of complex data required without human effort. However for any purpose such machines may require constant monitoring, tuning if its performance has dropped over time due to new datasets or trends on which larger models have less resilience .\n",
    "\n",
    "> A large language model consists of artificial intelligence systems that can process a significant amount of natural language in order to understand and generate speech. These large language models enable more efficient processing for tasks such as machine translation, summarization, question/answering services, text classification problems, and many other NLP applications related with understanding human spoken or written languages across various cultural regions. \n",
    "This work focuses on improving existing models that were designed before recent datasets to achieve a new level of performance in regards to accuracies for tasks such as named entity recognition from Wikipedia. We will explore methods like fine-tuning and data augmentation together with regularization techniques, including dropout for training over large language model parameters to enhancements its precision while reducing computational resources consumption significantly using other optimization methods typically implemented along many deep learning algorithms used in various NLP tasks on datasets not limited to only the English tongue nor just specific sub-fields.\n",
    "\n",
    "Using ```temperature = 2```, the output tokens looks like a mishmash of related words.\n",
    "\n",
    "> A larger language model contains additional linguistic context to help improve autocomplete predictions with high- confidence scores on \n",
    "uncompleted text entry requests over short burst microtasks at small tasks scales across the language eception handling of many language. In summary, more comprehensive large scalers will generally show improvements while smaller units are rarely significant enough overall since this type model has much deeper access when it comes to understanding and address data with other external inputs or internal variables.\n",
    "More sophistimac in natural lingo which usually leads towards a greater ability for the given language based on more advanced techs not limited toward manual tuning/tension setting or adjustable factors alone that result from better scaling properties within overall model capacity when dealing along the same field. When tested together with complex benchmark tasks of different dimensions over an amount time duration, we observe increased profits towards certain approaches when compared via baselining smaller settings due to well chosen parameters being a large version inside such scenarios where many microelearning researches show better yields upwards as expected which explains much improved overall performance that otherwise gets downsixed for small-data sifts yet maintain similar effort from larger datasets across various languages at global or individual ends after data collection with enough additional knowledge not present in typical tasks done manually!\n",
    "\n",
    "This is not necessarily a robust test but it shows the general effect of changing the temperature parameter for the model we used. Setting the model to a high temperature allows for low probability outputs to be chosen. Too high a temperature, and the generated text can appear nonsensical and have grammatical errors. \n",
    "\n",
    "In the examples here, the output of the model for temperature less than 1 generally outputs text that are sensible answers to the question."
   ]
  },
  {
   "cell_type": "markdown",
   "id": "8dfed553-4f3b-4ebb-97bb-3066f083c0b9",
   "metadata": {},
   "source": [
    "### Key takeaways\n",
    "\n",
    "- Large language models are neural networks trained on massive text datasets. Many of the operations done within the neural network are performed as matrix multiplications in a computer.\n",
    "\n",
    "- The transformer architecture and modifications thereof are used in many state-of-the-art large language models.\n",
    "\n",
    "- Running large language models on smaller computing devices are possible by quantization of model parameters."
   ]
  },
  {
   "cell_type": "markdown",
   "id": "d1c86f50-1678-4e55-b56b-5bc4b8a7aa4f",
   "metadata": {},
   "source": [
    "## References\n",
    "\n",
    "::: {#refs}\n",
    ":::"
   ]
  }
 ],
 "metadata": {
  "kernelspec": {
   "display_name": "Python 3 (ipykernel)",
   "language": "python",
   "name": "python3"
  },
  "language_info": {
   "codemirror_mode": {
    "name": "ipython",
    "version": 3
   },
   "file_extension": ".py",
   "mimetype": "text/x-python",
   "name": "python",
   "nbconvert_exporter": "python",
   "pygments_lexer": "ipython3",
   "version": "3.9.12"
  }
 },
 "nbformat": 4,
 "nbformat_minor": 5
}
